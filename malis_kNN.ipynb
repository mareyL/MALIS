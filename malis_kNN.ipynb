{
 "cells": [
  {
   "cell_type": "code",
   "execution_count": null,
   "metadata": {},
   "outputs": [],
   "source": [
    "%matplotlib inline\n",
    "import matplotlib.pyplot as plt\n",
    "import numpy as np\n",
    "import matplotlib.pyplot as plt\n",
    "import tensorflow as tf \n",
    "from sklearn.neighbors import KNeighborsClassifier\n",
    "import time\n",
    "import pickle\n",
    "import sys\n",
    "\n",
    "#import data\n",
    "(train_images, train_labels), (test_images, test_labels) = tf.keras.datasets.mnist.load_data()\n",
    "\n",
    "train_images = train_images.reshape((60000, 784))\n",
    "test_images = test_images.reshape((10000, 784))\n",
    "\n",
    "# Normalize pixel values to be between -1 and 1\n",
    "train_images, test_images = train_images / 127.5 - 1, test_images / 127.5 - 1"
   ]
  },
  {
   "cell_type": "code",
   "execution_count": null,
   "metadata": {},
   "outputs": [],
   "source": [
    "t = time.time()\n",
    "neigh = KNeighborsClassifier(n_neighbors=10, weights='distance', leaf_size=100)\n",
    "neigh.fit(train_images, train_labels)\n",
    "print(\"fit time:\", time.time()-t)\n",
    "t = time.time()\n",
    "result = neigh.predict(test_images)\n",
    "print(\"predict time:\", time.time()-t)\n",
    "\n",
    "acc = 0\n",
    "for i in range(len(test_images)):\n",
    "    acc += result[i] == test_labels[i]\n",
    "print(\"accuracy = \", acc/len(test_images))\n",
    "\n",
    "print(sys.getsizeof(pickle.dumps(neigh)))"
   ]
  }
 ],
 "metadata": {
  "kernelspec": {
   "display_name": "Python 3",
   "language": "python",
   "name": "python3"
  },
  "language_info": {
   "codemirror_mode": {
    "name": "ipython",
    "version": 3
   },
   "file_extension": ".py",
   "mimetype": "text/x-python",
   "name": "python",
   "nbconvert_exporter": "python",
   "pygments_lexer": "ipython3",
   "version": "3.5.2"
  }
 },
 "nbformat": 4,
 "nbformat_minor": 2
}
